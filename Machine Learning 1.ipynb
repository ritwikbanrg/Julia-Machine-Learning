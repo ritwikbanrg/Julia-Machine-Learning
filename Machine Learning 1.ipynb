{
 "cells": [
  {
   "cell_type": "code",
   "execution_count": 1,
   "metadata": {},
   "outputs": [],
   "source": [
    "using ScikitLearn"
   ]
  },
  {
   "cell_type": "code",
   "execution_count": 2,
   "metadata": {},
   "outputs": [
    {
     "data": {
      "text/plain": [
       "PyObject LinearRegression(copy_X=True, fit_intercept=True, n_jobs=1, normalize=False)"
      ]
     },
     "execution_count": 2,
     "metadata": {},
     "output_type": "execute_result"
    }
   ],
   "source": [
    "@sk_import linear_model: LinearRegression\n",
    "clf=LinearRegression()"
   ]
  },
  {
   "cell_type": "code",
   "execution_count": 3,
   "metadata": {},
   "outputs": [
    {
     "data": {
      "text/plain": [
       "-1"
      ]
     },
     "execution_count": 3,
     "metadata": {},
     "output_type": "execute_result"
    }
   ],
   "source": [
    "function tablemaker(x,y)\n",
    "    return 3*x-2*y\n",
    "end\n",
    "tablemaker(3,5)"
   ]
  },
  {
   "cell_type": "code",
   "execution_count": 4,
   "metadata": {},
   "outputs": [
    {
     "data": {
      "text/plain": [
       "27"
      ]
     },
     "execution_count": 4,
     "metadata": {},
     "output_type": "execute_result"
    }
   ],
   "source": [
    "tablemaker(17,12)"
   ]
  },
  {
   "cell_type": "code",
   "execution_count": 5,
   "metadata": {},
   "outputs": [
    {
     "data": {
      "text/plain": [
       "17"
      ]
     },
     "execution_count": 5,
     "metadata": {},
     "output_type": "execute_result"
    }
   ],
   "source": [
    "tablemaker(11,8)"
   ]
  },
  {
   "cell_type": "code",
   "execution_count": 6,
   "metadata": {},
   "outputs": [
    {
     "data": {
      "text/plain": [
       "-17"
      ]
     },
     "execution_count": 6,
     "metadata": {},
     "output_type": "execute_result"
    }
   ],
   "source": [
    "tablemaker(7,19)"
   ]
  },
  {
   "cell_type": "code",
   "execution_count": 7,
   "metadata": {},
   "outputs": [
    {
     "data": {
      "text/html": [
       "<table class=\"data-frame\"><thead><tr><th></th><th>X</th><th>Y</th><th>Z</th></tr><tr><th></th><th>Int64</th><th>Int64</th><th>Int64</th></tr></thead><tbody><p>4 rows × 3 columns</p><tr><th>1</th><td>3</td><td>5</td><td>-1</td></tr><tr><th>2</th><td>17</td><td>12</td><td>27</td></tr><tr><th>3</th><td>11</td><td>8</td><td>17</td></tr><tr><th>4</th><td>7</td><td>19</td><td>-17</td></tr></tbody></table>"
      ],
      "text/latex": [
       "\\begin{tabular}{r|ccc}\n",
       "\t& X & Y & Z\\\\\n",
       "\t\\hline\n",
       "\t1 & 3 & 5 & -1 \\\\\n",
       "\t2 & 17 & 12 & 27 \\\\\n",
       "\t3 & 11 & 8 & 17 \\\\\n",
       "\t4 & 7 & 19 & -17 \\\\\n",
       "\\end{tabular}\n"
      ],
      "text/plain": [
       "4×3 DataFrame\n",
       "│ Row │ X     │ Y     │ Z     │\n",
       "│     │ \u001b[90mInt64\u001b[39m │ \u001b[90mInt64\u001b[39m │ \u001b[90mInt64\u001b[39m │\n",
       "├─────┼───────┼───────┼───────┤\n",
       "│ 1   │ 3     │ 5     │ -1    │\n",
       "│ 2   │ 17    │ 12    │ 27    │\n",
       "│ 3   │ 11    │ 8     │ 17    │\n",
       "│ 4   │ 7     │ 19    │ -17   │"
      ]
     },
     "execution_count": 7,
     "metadata": {},
     "output_type": "execute_result"
    }
   ],
   "source": [
    "using DataFrames\n",
    "df=DataFrame(X=[3,17,11,7],Y=[5,12,8,19],Z=[-1,27,17,-17])"
   ]
  },
  {
   "cell_type": "code",
   "execution_count": 8,
   "metadata": {},
   "outputs": [
    {
     "data": {
      "text/plain": [
       "3×2 Array{Int64,2}:\n",
       "  3   5\n",
       " 17  12\n",
       " 11   8"
      ]
     },
     "execution_count": 8,
     "metadata": {},
     "output_type": "execute_result"
    }
   ],
   "source": [
    "xtrain=convert(Array,df[1:3,1:2])"
   ]
  },
  {
   "cell_type": "code",
   "execution_count": 9,
   "metadata": {},
   "outputs": [
    {
     "data": {
      "text/plain": [
       "3-element Array{Int64,1}:\n",
       " -1\n",
       " 27\n",
       " 17"
      ]
     },
     "execution_count": 9,
     "metadata": {},
     "output_type": "execute_result"
    }
   ],
   "source": [
    "ytrain=df[1:3,3]"
   ]
  },
  {
   "cell_type": "code",
   "execution_count": 10,
   "metadata": {},
   "outputs": [
    {
     "data": {
      "text/plain": [
       "1×2 Array{Int64,2}:\n",
       " 7  19"
      ]
     },
     "execution_count": 10,
     "metadata": {},
     "output_type": "execute_result"
    }
   ],
   "source": [
    "xtest=convert(Array,df[4,1:2])"
   ]
  },
  {
   "cell_type": "code",
   "execution_count": 11,
   "metadata": {},
   "outputs": [
    {
     "data": {
      "text/plain": [
       "1-element Array{Float64,1}:\n",
       " -17.000000000000036"
      ]
     },
     "execution_count": 11,
     "metadata": {},
     "output_type": "execute_result"
    }
   ],
   "source": [
    "fit!(clf,xtrain,ytrain)\n",
    "predict(clf,xtest)"
   ]
  },
  {
   "cell_type": "code",
   "execution_count": 12,
   "metadata": {},
   "outputs": [
    {
     "name": "stdout",
     "output_type": "stream",
     "text": [
      "\u001b[32m\u001b[1m Resolving\u001b[22m\u001b[39m package versions...\n",
      "\u001b[32m\u001b[1m  Updating\u001b[22m\u001b[39m `~/.julia/Project.toml`\n",
      "\u001b[90m [no changes]\u001b[39m\n",
      "\u001b[32m\u001b[1m  Updating\u001b[22m\u001b[39m `~/.julia/Manifest.toml`\n",
      "\u001b[90m [no changes]\u001b[39m\n"
     ]
    }
   ],
   "source": [
    "import Pkg\n",
    "Pkg.add(\"RDatasets\")"
   ]
  },
  {
   "cell_type": "code",
   "execution_count": 13,
   "metadata": {},
   "outputs": [],
   "source": [
    "using RDatasets"
   ]
  },
  {
   "cell_type": "code",
   "execution_count": 14,
   "metadata": {},
   "outputs": [
    {
     "name": "stdout",
     "output_type": "stream",
     "text": [
      "warning: failed parsing String on row=161, col=3, error=INVALID: OK, QUOTED, DELIMITED, INVALID_DELIMITER\n"
     ]
    },
    {
     "data": {
      "text/html": [
       "<table class=\"data-frame\"><thead><tr><th></th><th>Package</th><th>Dataset</th><th>Title</th><th>Rows</th><th>Columns</th></tr><tr><th></th><th>String⍰</th><th>String⍰</th><th>String⍰</th><th>Int64⍰</th><th>Int64⍰</th></tr></thead><tbody><p>27 rows × 5 columns</p><tr><th>1</th><td>KMsurv</td><td>aids</td><td>data from Section 1.19</td><td>295</td><td>3</td></tr><tr><th>2</th><td>KMsurv</td><td>alloauto</td><td>data from Section 1.9</td><td>101</td><td>3</td></tr><tr><th>3</th><td>KMsurv</td><td>allograft</td><td>data from Exercise 13.1, p418</td><td>34</td><td>4</td></tr><tr><th>4</th><td>KMsurv</td><td>azt</td><td>data from Exercise 4.7, p122</td><td>45</td><td>4</td></tr><tr><th>5</th><td>KMsurv</td><td>baboon</td><td>data from Exercise 5.8, p147</td><td>152</td><td>3</td></tr><tr><th>6</th><td>KMsurv</td><td>bcdeter</td><td>data from Section 1.18</td><td>95</td><td>3</td></tr><tr><th>7</th><td>KMsurv</td><td>bfeed</td><td>data from Section 1.14</td><td>927</td><td>10</td></tr><tr><th>8</th><td>KMsurv</td><td>bmt</td><td>data from Section 1.3</td><td>137</td><td>22</td></tr><tr><th>9</th><td>KMsurv</td><td>bnct</td><td>data from Exercise 7.7, p223</td><td>30</td><td>3</td></tr><tr><th>10</th><td>KMsurv</td><td>btrial</td><td>data from Section 1.5</td><td>45</td><td>3</td></tr><tr><th>11</th><td>KMsurv</td><td>burn</td><td>data from Section 1.6</td><td>154</td><td>18</td></tr><tr><th>12</th><td>KMsurv</td><td>channing</td><td>data from Section 1.16</td><td>462</td><td>6</td></tr><tr><th>13</th><td>KMsurv</td><td>drug6mp</td><td>data from Section 1.2</td><td>21</td><td>5</td></tr><tr><th>14</th><td>KMsurv</td><td>drughiv</td><td>data from Exercise 7.6, p222</td><td>34</td><td>3</td></tr><tr><th>15</th><td>KMsurv</td><td>hodg</td><td>data from Section 1.10</td><td>43</td><td>6</td></tr><tr><th>16</th><td>KMsurv</td><td>kidney</td><td>data from Section 1.4</td><td>119</td><td>3</td></tr><tr><th>17</th><td>KMsurv</td><td>kidrecurr</td><td>Data on 38 individuals using a kidney dialysis machine</td><td>38</td><td>10</td></tr><tr><th>18</th><td>KMsurv</td><td>kidtran</td><td>data from Section 1.7</td><td>863</td><td>6</td></tr><tr><th>19</th><td>KMsurv</td><td>larynx</td><td>data from Section 1.8</td><td>90</td><td>5</td></tr><tr><th>20</th><td>KMsurv</td><td>lung</td><td>data from Exercise 4.4, p120</td><td>25</td><td>4</td></tr><tr><th>21</th><td>KMsurv</td><td>pneumon</td><td>data from Section 1.13</td><td>3470</td><td>15</td></tr><tr><th>22</th><td>KMsurv</td><td>psych</td><td>data from Section 1.15</td><td>26</td><td>4</td></tr><tr><th>23</th><td>KMsurv</td><td>rats</td><td>data from Exercise 7.13, p225</td><td>150</td><td>4</td></tr><tr><th>24</th><td>KMsurv</td><td>std</td><td>data from Section 1.12</td><td>877</td><td>24</td></tr><tr><th>25</th><td>KMsurv</td><td>stddiag</td><td>data from Exercise 5.6, p146</td><td>25</td><td>2</td></tr><tr><th>26</th><td>KMsurv</td><td>tongue</td><td>data from Section 1.11</td><td>80</td><td>3</td></tr><tr><th>27</th><td>KMsurv</td><td>twins</td><td>data from Exercise 7.14, p225</td><td>24</td><td>4</td></tr></tbody></table>"
      ],
      "text/latex": [
       "\\begin{tabular}{r|ccccc}\n",
       "\t& Package & Dataset & Title & Rows & Columns\\\\\n",
       "\t\\hline\n",
       "\t1 & KMsurv & aids & data from Section 1.19 & 295 & 3 \\\\\n",
       "\t2 & KMsurv & alloauto & data from Section 1.9 & 101 & 3 \\\\\n",
       "\t3 & KMsurv & allograft & data from Exercise 13.1, p418 & 34 & 4 \\\\\n",
       "\t4 & KMsurv & azt & data from Exercise 4.7, p122 & 45 & 4 \\\\\n",
       "\t5 & KMsurv & baboon & data from Exercise 5.8, p147 & 152 & 3 \\\\\n",
       "\t6 & KMsurv & bcdeter & data from Section 1.18 & 95 & 3 \\\\\n",
       "\t7 & KMsurv & bfeed & data from Section 1.14 & 927 & 10 \\\\\n",
       "\t8 & KMsurv & bmt & data from Section 1.3 & 137 & 22 \\\\\n",
       "\t9 & KMsurv & bnct & data from Exercise 7.7, p223 & 30 & 3 \\\\\n",
       "\t10 & KMsurv & btrial & data from Section 1.5 & 45 & 3 \\\\\n",
       "\t11 & KMsurv & burn & data from Section 1.6 & 154 & 18 \\\\\n",
       "\t12 & KMsurv & channing & data from Section 1.16 & 462 & 6 \\\\\n",
       "\t13 & KMsurv & drug6mp & data from Section 1.2 & 21 & 5 \\\\\n",
       "\t14 & KMsurv & drughiv & data from Exercise 7.6, p222 & 34 & 3 \\\\\n",
       "\t15 & KMsurv & hodg & data from Section 1.10 & 43 & 6 \\\\\n",
       "\t16 & KMsurv & kidney & data from Section 1.4 & 119 & 3 \\\\\n",
       "\t17 & KMsurv & kidrecurr & Data on 38 individuals using a kidney dialysis machine & 38 & 10 \\\\\n",
       "\t18 & KMsurv & kidtran & data from Section 1.7 & 863 & 6 \\\\\n",
       "\t19 & KMsurv & larynx & data from Section 1.8 & 90 & 5 \\\\\n",
       "\t20 & KMsurv & lung & data from Exercise 4.4, p120 & 25 & 4 \\\\\n",
       "\t21 & KMsurv & pneumon & data from Section 1.13 & 3470 & 15 \\\\\n",
       "\t22 & KMsurv & psych & data from Section 1.15 & 26 & 4 \\\\\n",
       "\t23 & KMsurv & rats & data from Exercise 7.13, p225 & 150 & 4 \\\\\n",
       "\t24 & KMsurv & std & data from Section 1.12 & 877 & 24 \\\\\n",
       "\t25 & KMsurv & stddiag & data from Exercise 5.6, p146 & 25 & 2 \\\\\n",
       "\t26 & KMsurv & tongue & data from Section 1.11 & 80 & 3 \\\\\n",
       "\t27 & KMsurv & twins & data from Exercise 7.14, p225 & 24 & 4 \\\\\n",
       "\\end{tabular}\n"
      ],
      "text/plain": [
       "27×5 DataFrame. Omitted printing of 3 columns\n",
       "│ Row │ Package │ Dataset   │\n",
       "│     │ \u001b[90mString⍰\u001b[39m │ \u001b[90mString⍰\u001b[39m   │\n",
       "├─────┼─────────┼───────────┤\n",
       "│ 1   │ KMsurv  │ aids      │\n",
       "│ 2   │ KMsurv  │ alloauto  │\n",
       "│ 3   │ KMsurv  │ allograft │\n",
       "│ 4   │ KMsurv  │ azt       │\n",
       "│ 5   │ KMsurv  │ baboon    │\n",
       "│ 6   │ KMsurv  │ bcdeter   │\n",
       "│ 7   │ KMsurv  │ bfeed     │\n",
       "│ 8   │ KMsurv  │ bmt       │\n",
       "│ 9   │ KMsurv  │ bnct      │\n",
       "│ 10  │ KMsurv  │ btrial    │\n",
       "⋮\n",
       "│ 17  │ KMsurv  │ kidrecurr │\n",
       "│ 18  │ KMsurv  │ kidtran   │\n",
       "│ 19  │ KMsurv  │ larynx    │\n",
       "│ 20  │ KMsurv  │ lung      │\n",
       "│ 21  │ KMsurv  │ pneumon   │\n",
       "│ 22  │ KMsurv  │ psych     │\n",
       "│ 23  │ KMsurv  │ rats      │\n",
       "│ 24  │ KMsurv  │ std       │\n",
       "│ 25  │ KMsurv  │ stddiag   │\n",
       "│ 26  │ KMsurv  │ tongue    │\n",
       "│ 27  │ KMsurv  │ twins     │"
      ]
     },
     "execution_count": 14,
     "metadata": {},
     "output_type": "execute_result"
    }
   ],
   "source": [
    "RDatasets.datasets(\"KMsurv\")"
   ]
  },
  {
   "cell_type": "code",
   "execution_count": 15,
   "metadata": {},
   "outputs": [
    {
     "data": {
      "text/html": [
       "<table class=\"data-frame\"><thead><tr><th></th><th>Time</th><th>Delta</th><th>Type</th></tr><tr><th></th><th>Float64⍰</th><th>Int64⍰</th><th>Int64⍰</th></tr></thead><tbody><p>119 rows × 3 columns</p><tr><th>1</th><td>1.5</td><td>1</td><td>1</td></tr><tr><th>2</th><td>3.5</td><td>1</td><td>1</td></tr><tr><th>3</th><td>4.5</td><td>1</td><td>1</td></tr><tr><th>4</th><td>4.5</td><td>1</td><td>1</td></tr><tr><th>5</th><td>5.5</td><td>1</td><td>1</td></tr><tr><th>6</th><td>8.5</td><td>1</td><td>1</td></tr><tr><th>7</th><td>8.5</td><td>1</td><td>1</td></tr><tr><th>8</th><td>9.5</td><td>1</td><td>1</td></tr><tr><th>9</th><td>10.5</td><td>1</td><td>1</td></tr><tr><th>10</th><td>11.5</td><td>1</td><td>1</td></tr><tr><th>11</th><td>15.5</td><td>1</td><td>1</td></tr><tr><th>12</th><td>16.5</td><td>1</td><td>1</td></tr><tr><th>13</th><td>18.5</td><td>1</td><td>1</td></tr><tr><th>14</th><td>23.5</td><td>1</td><td>1</td></tr><tr><th>15</th><td>26.5</td><td>1</td><td>1</td></tr><tr><th>16</th><td>2.5</td><td>0</td><td>1</td></tr><tr><th>17</th><td>2.5</td><td>0</td><td>1</td></tr><tr><th>18</th><td>3.5</td><td>0</td><td>1</td></tr><tr><th>19</th><td>3.5</td><td>0</td><td>1</td></tr><tr><th>20</th><td>3.5</td><td>0</td><td>1</td></tr><tr><th>21</th><td>4.5</td><td>0</td><td>1</td></tr><tr><th>22</th><td>5.5</td><td>0</td><td>1</td></tr><tr><th>23</th><td>6.5</td><td>0</td><td>1</td></tr><tr><th>24</th><td>6.5</td><td>0</td><td>1</td></tr><tr><th>25</th><td>7.5</td><td>0</td><td>1</td></tr><tr><th>26</th><td>7.5</td><td>0</td><td>1</td></tr><tr><th>27</th><td>7.5</td><td>0</td><td>1</td></tr><tr><th>28</th><td>7.5</td><td>0</td><td>1</td></tr><tr><th>29</th><td>8.5</td><td>0</td><td>1</td></tr><tr><th>30</th><td>9.5</td><td>0</td><td>1</td></tr><tr><th>&vellip;</th><td>&vellip;</td><td>&vellip;</td><td>&vellip;</td></tr></tbody></table>"
      ],
      "text/latex": [
       "\\begin{tabular}{r|ccc}\n",
       "\t& Time & Delta & Type\\\\\n",
       "\t\\hline\n",
       "\t1 & 1.5 & 1 & 1 \\\\\n",
       "\t2 & 3.5 & 1 & 1 \\\\\n",
       "\t3 & 4.5 & 1 & 1 \\\\\n",
       "\t4 & 4.5 & 1 & 1 \\\\\n",
       "\t5 & 5.5 & 1 & 1 \\\\\n",
       "\t6 & 8.5 & 1 & 1 \\\\\n",
       "\t7 & 8.5 & 1 & 1 \\\\\n",
       "\t8 & 9.5 & 1 & 1 \\\\\n",
       "\t9 & 10.5 & 1 & 1 \\\\\n",
       "\t10 & 11.5 & 1 & 1 \\\\\n",
       "\t11 & 15.5 & 1 & 1 \\\\\n",
       "\t12 & 16.5 & 1 & 1 \\\\\n",
       "\t13 & 18.5 & 1 & 1 \\\\\n",
       "\t14 & 23.5 & 1 & 1 \\\\\n",
       "\t15 & 26.5 & 1 & 1 \\\\\n",
       "\t16 & 2.5 & 0 & 1 \\\\\n",
       "\t17 & 2.5 & 0 & 1 \\\\\n",
       "\t18 & 3.5 & 0 & 1 \\\\\n",
       "\t19 & 3.5 & 0 & 1 \\\\\n",
       "\t20 & 3.5 & 0 & 1 \\\\\n",
       "\t21 & 4.5 & 0 & 1 \\\\\n",
       "\t22 & 5.5 & 0 & 1 \\\\\n",
       "\t23 & 6.5 & 0 & 1 \\\\\n",
       "\t24 & 6.5 & 0 & 1 \\\\\n",
       "\t25 & 7.5 & 0 & 1 \\\\\n",
       "\t26 & 7.5 & 0 & 1 \\\\\n",
       "\t27 & 7.5 & 0 & 1 \\\\\n",
       "\t28 & 7.5 & 0 & 1 \\\\\n",
       "\t29 & 8.5 & 0 & 1 \\\\\n",
       "\t30 & 9.5 & 0 & 1 \\\\\n",
       "\t31 & 10.5 & 0 & 1 \\\\\n",
       "\t32 & 11.5 & 0 & 1 \\\\\n",
       "\t33 & 12.5 & 0 & 1 \\\\\n",
       "\t34 & 12.5 & 0 & 1 \\\\\n",
       "\t35 & 13.5 & 0 & 1 \\\\\n",
       "\t36 & 14.5 & 0 & 1 \\\\\n",
       "\t37 & 14.5 & 0 & 1 \\\\\n",
       "\t38 & 21.5 & 0 & 1 \\\\\n",
       "\t39 & 21.5 & 0 & 1 \\\\\n",
       "\t40 & 22.5 & 0 & 1 \\\\\n",
       "\t41 & 22.5 & 0 & 1 \\\\\n",
       "\t42 & 25.5 & 0 & 1 \\\\\n",
       "\t43 & 27.5 & 0 & 1 \\\\\n",
       "\t44 & 0.5 & 1 & 2 \\\\\n",
       "\t45 & 0.5 & 1 & 2 \\\\\n",
       "\t46 & 0.5 & 1 & 2 \\\\\n",
       "\t47 & 0.5 & 1 & 2 \\\\\n",
       "\t48 & 0.5 & 1 & 2 \\\\\n",
       "\t49 & 0.5 & 1 & 2 \\\\\n",
       "\t50 & 2.5 & 1 & 2 \\\\\n",
       "\t51 & 2.5 & 1 & 2 \\\\\n",
       "\t52 & 3.5 & 1 & 2 \\\\\n",
       "\t53 & 6.5 & 1 & 2 \\\\\n",
       "\t54 & 15.5 & 1 & 2 \\\\\n",
       "\t55 & 0.5 & 0 & 2 \\\\\n",
       "\t56 & 0.5 & 0 & 2 \\\\\n",
       "\t57 & 0.5 & 0 & 2 \\\\\n",
       "\t58 & 0.5 & 0 & 2 \\\\\n",
       "\t59 & 0.5 & 0 & 2 \\\\\n",
       "\t60 & 0.5 & 0 & 2 \\\\\n",
       "\t61 & 0.5 & 0 & 2 \\\\\n",
       "\t62 & 0.5 & 0 & 2 \\\\\n",
       "\t63 & 0.5 & 0 & 2 \\\\\n",
       "\t64 & 0.5 & 0 & 2 \\\\\n",
       "\t65 & 1.5 & 0 & 2 \\\\\n",
       "\t66 & 1.5 & 0 & 2 \\\\\n",
       "\t67 & 1.5 & 0 & 2 \\\\\n",
       "\t68 & 1.5 & 0 & 2 \\\\\n",
       "\t69 & 2.5 & 0 & 2 \\\\\n",
       "\t70 & 2.5 & 0 & 2 \\\\\n",
       "\t71 & 2.5 & 0 & 2 \\\\\n",
       "\t72 & 2.5 & 0 & 2 \\\\\n",
       "\t73 & 2.5 & 0 & 2 \\\\\n",
       "\t74 & 3.5 & 0 & 2 \\\\\n",
       "\t75 & 3.5 & 0 & 2 \\\\\n",
       "\t76 & 3.5 & 0 & 2 \\\\\n",
       "\t77 & 3.5 & 0 & 2 \\\\\n",
       "\t78 & 3.5 & 0 & 2 \\\\\n",
       "\t79 & 4.5 & 0 & 2 \\\\\n",
       "\t80 & 4.5 & 0 & 2 \\\\\n",
       "\t81 & 4.5 & 0 & 2 \\\\\n",
       "\t82 & 5.5 & 0 & 2 \\\\\n",
       "\t83 & 5.5 & 0 & 2 \\\\\n",
       "\t84 & 5.5 & 0 & 2 \\\\\n",
       "\t85 & 5.5 & 0 & 2 \\\\\n",
       "\t86 & 5.5 & 0 & 2 \\\\\n",
       "\t87 & 6.5 & 0 & 2 \\\\\n",
       "\t88 & 7.5 & 0 & 2 \\\\\n",
       "\t89 & 7.5 & 0 & 2 \\\\\n",
       "\t90 & 7.5 & 0 & 2 \\\\\n",
       "\t91 & 8.5 & 0 & 2 \\\\\n",
       "\t92 & 8.5 & 0 & 2 \\\\\n",
       "\t93 & 8.5 & 0 & 2 \\\\\n",
       "\t94 & 9.5 & 0 & 2 \\\\\n",
       "\t95 & 9.5 & 0 & 2 \\\\\n",
       "\t96 & 10.5 & 0 & 2 \\\\\n",
       "\t97 & 10.5 & 0 & 2 \\\\\n",
       "\t98 & 10.5 & 0 & 2 \\\\\n",
       "\t99 & 11.5 & 0 & 2 \\\\\n",
       "\t100 & 11.5 & 0 & 2 \\\\\n",
       "\t101 & 12.5 & 0 & 2 \\\\\n",
       "\t102 & 12.5 & 0 & 2 \\\\\n",
       "\t103 & 12.5 & 0 & 2 \\\\\n",
       "\t104 & 12.5 & 0 & 2 \\\\\n",
       "\t105 & 14.5 & 0 & 2 \\\\\n",
       "\t106 & 14.5 & 0 & 2 \\\\\n",
       "\t107 & 16.5 & 0 & 2 \\\\\n",
       "\t108 & 16.5 & 0 & 2 \\\\\n",
       "\t109 & 18.5 & 0 & 2 \\\\\n",
       "\t110 & 19.5 & 0 & 2 \\\\\n",
       "\t111 & 19.5 & 0 & 2 \\\\\n",
       "\t112 & 19.5 & 0 & 2 \\\\\n",
       "\t113 & 20.5 & 0 & 2 \\\\\n",
       "\t114 & 22.5 & 0 & 2 \\\\\n",
       "\t115 & 24.5 & 0 & 2 \\\\\n",
       "\t116 & 25.5 & 0 & 2 \\\\\n",
       "\t117 & 26.5 & 0 & 2 \\\\\n",
       "\t118 & 26.5 & 0 & 2 \\\\\n",
       "\t119 & 28.5 & 0 & 2 \\\\\n",
       "\\end{tabular}\n"
      ],
      "text/plain": [
       "119×3 DataFrame\n",
       "│ Row │ Time     │ Delta  │ Type   │\n",
       "│     │ \u001b[90mFloat64⍰\u001b[39m │ \u001b[90mInt64⍰\u001b[39m │ \u001b[90mInt64⍰\u001b[39m │\n",
       "├─────┼──────────┼────────┼────────┤\n",
       "│ 1   │ 1.5      │ 1      │ 1      │\n",
       "│ 2   │ 3.5      │ 1      │ 1      │\n",
       "│ 3   │ 4.5      │ 1      │ 1      │\n",
       "│ 4   │ 4.5      │ 1      │ 1      │\n",
       "│ 5   │ 5.5      │ 1      │ 1      │\n",
       "│ 6   │ 8.5      │ 1      │ 1      │\n",
       "│ 7   │ 8.5      │ 1      │ 1      │\n",
       "│ 8   │ 9.5      │ 1      │ 1      │\n",
       "│ 9   │ 10.5     │ 1      │ 1      │\n",
       "│ 10  │ 11.5     │ 1      │ 1      │\n",
       "⋮\n",
       "│ 109 │ 18.5     │ 0      │ 2      │\n",
       "│ 110 │ 19.5     │ 0      │ 2      │\n",
       "│ 111 │ 19.5     │ 0      │ 2      │\n",
       "│ 112 │ 19.5     │ 0      │ 2      │\n",
       "│ 113 │ 20.5     │ 0      │ 2      │\n",
       "│ 114 │ 22.5     │ 0      │ 2      │\n",
       "│ 115 │ 24.5     │ 0      │ 2      │\n",
       "│ 116 │ 25.5     │ 0      │ 2      │\n",
       "│ 117 │ 26.5     │ 0      │ 2      │\n",
       "│ 118 │ 26.5     │ 0      │ 2      │\n",
       "│ 119 │ 28.5     │ 0      │ 2      │"
      ]
     },
     "execution_count": 15,
     "metadata": {},
     "output_type": "execute_result"
    }
   ],
   "source": [
    "bb=dataset(\"KMsurv\",\"kidney\")"
   ]
  },
  {
   "cell_type": "code",
   "execution_count": 16,
   "metadata": {},
   "outputs": [
    {
     "data": {
      "text/plain": [
       "2-element Array{Union{Missing, Int64},1}:\n",
       " 1\n",
       " 0"
      ]
     },
     "execution_count": 16,
     "metadata": {},
     "output_type": "execute_result"
    }
   ],
   "source": [
    "unique(bb[:,2])"
   ]
  },
  {
   "cell_type": "code",
   "execution_count": 17,
   "metadata": {},
   "outputs": [
    {
     "data": {
      "text/plain": [
       "PyObject <class 'sklearn.tree.tree.DecisionTreeClassifier'>"
      ]
     },
     "execution_count": 17,
     "metadata": {},
     "output_type": "execute_result"
    }
   ],
   "source": [
    "@sk_import tree: DecisionTreeClassifier"
   ]
  },
  {
   "cell_type": "code",
   "execution_count": 18,
   "metadata": {},
   "outputs": [
    {
     "data": {
      "text/plain": [
       "PyObject DecisionTreeClassifier(class_weight=None, criterion='gini', max_depth=None,\n",
       "            max_features=None, max_leaf_nodes=20,\n",
       "            min_impurity_decrease=0.0, min_impurity_split=None,\n",
       "            min_samples_leaf=1, min_samples_split=2,\n",
       "            min_weight_fraction_leaf=0.0, presort=False, random_state=None,\n",
       "            splitter='best')"
      ]
     },
     "execution_count": 18,
     "metadata": {},
     "output_type": "execute_result"
    }
   ],
   "source": [
    "clftree=DecisionTreeClassifier(max_leaf_nodes=20)"
   ]
  },
  {
   "cell_type": "code",
   "execution_count": 19,
   "metadata": {
    "scrolled": true
   },
   "outputs": [
    {
     "name": "stdout",
     "output_type": "stream",
     "text": [
      "\u001b[32m\u001b[1m Resolving\u001b[22m\u001b[39m package versions...\n",
      "\u001b[32m\u001b[1m  Updating\u001b[22m\u001b[39m `~/.julia/Project.toml`\n",
      "\u001b[90m [no changes]\u001b[39m\n",
      "\u001b[32m\u001b[1m  Updating\u001b[22m\u001b[39m `~/.julia/Manifest.toml`\n",
      "\u001b[90m [no changes]\u001b[39m\n"
     ]
    },
    {
     "data": {
      "text/html": [
       "<table class=\"data-frame\"><thead><tr><th></th><th>Time</th><th>Delta</th><th>Type</th></tr><tr><th></th><th>Float64⍰</th><th>Int64⍰</th><th>Int64⍰</th></tr></thead><tbody><p>119 rows × 3 columns</p><tr><th>1</th><td>4.5</td><td>1</td><td>1</td></tr><tr><th>2</th><td>6.5</td><td>0</td><td>1</td></tr><tr><th>3</th><td>2.5</td><td>0</td><td>2</td></tr><tr><th>4</th><td>4.5</td><td>0</td><td>2</td></tr><tr><th>5</th><td>10.5</td><td>0</td><td>2</td></tr><tr><th>6</th><td>24.5</td><td>0</td><td>2</td></tr><tr><th>7</th><td>10.5</td><td>0</td><td>2</td></tr><tr><th>8</th><td>10.5</td><td>0</td><td>2</td></tr><tr><th>9</th><td>0.5</td><td>0</td><td>2</td></tr><tr><th>10</th><td>19.5</td><td>0</td><td>2</td></tr><tr><th>11</th><td>3.5</td><td>0</td><td>1</td></tr><tr><th>12</th><td>3.5</td><td>0</td><td>2</td></tr><tr><th>13</th><td>19.5</td><td>0</td><td>2</td></tr><tr><th>14</th><td>3.5</td><td>1</td><td>1</td></tr><tr><th>15</th><td>2.5</td><td>0</td><td>1</td></tr><tr><th>16</th><td>0.5</td><td>1</td><td>2</td></tr><tr><th>17</th><td>22.5</td><td>0</td><td>1</td></tr><tr><th>18</th><td>3.5</td><td>0</td><td>1</td></tr><tr><th>19</th><td>3.5</td><td>1</td><td>2</td></tr><tr><th>20</th><td>3.5</td><td>0</td><td>2</td></tr><tr><th>21</th><td>0.5</td><td>1</td><td>2</td></tr><tr><th>22</th><td>14.5</td><td>0</td><td>1</td></tr><tr><th>23</th><td>12.5</td><td>0</td><td>1</td></tr><tr><th>24</th><td>1.5</td><td>0</td><td>2</td></tr><tr><th>25</th><td>11.5</td><td>1</td><td>1</td></tr><tr><th>26</th><td>0.5</td><td>1</td><td>2</td></tr><tr><th>27</th><td>3.5</td><td>0</td><td>2</td></tr><tr><th>28</th><td>2.5</td><td>0</td><td>2</td></tr><tr><th>29</th><td>4.5</td><td>1</td><td>1</td></tr><tr><th>30</th><td>9.5</td><td>0</td><td>2</td></tr><tr><th>&vellip;</th><td>&vellip;</td><td>&vellip;</td><td>&vellip;</td></tr></tbody></table>"
      ],
      "text/latex": [
       "\\begin{tabular}{r|ccc}\n",
       "\t& Time & Delta & Type\\\\\n",
       "\t\\hline\n",
       "\t1 & 4.5 & 1 & 1 \\\\\n",
       "\t2 & 6.5 & 0 & 1 \\\\\n",
       "\t3 & 2.5 & 0 & 2 \\\\\n",
       "\t4 & 4.5 & 0 & 2 \\\\\n",
       "\t5 & 10.5 & 0 & 2 \\\\\n",
       "\t6 & 24.5 & 0 & 2 \\\\\n",
       "\t7 & 10.5 & 0 & 2 \\\\\n",
       "\t8 & 10.5 & 0 & 2 \\\\\n",
       "\t9 & 0.5 & 0 & 2 \\\\\n",
       "\t10 & 19.5 & 0 & 2 \\\\\n",
       "\t11 & 3.5 & 0 & 1 \\\\\n",
       "\t12 & 3.5 & 0 & 2 \\\\\n",
       "\t13 & 19.5 & 0 & 2 \\\\\n",
       "\t14 & 3.5 & 1 & 1 \\\\\n",
       "\t15 & 2.5 & 0 & 1 \\\\\n",
       "\t16 & 0.5 & 1 & 2 \\\\\n",
       "\t17 & 22.5 & 0 & 1 \\\\\n",
       "\t18 & 3.5 & 0 & 1 \\\\\n",
       "\t19 & 3.5 & 1 & 2 \\\\\n",
       "\t20 & 3.5 & 0 & 2 \\\\\n",
       "\t21 & 0.5 & 1 & 2 \\\\\n",
       "\t22 & 14.5 & 0 & 1 \\\\\n",
       "\t23 & 12.5 & 0 & 1 \\\\\n",
       "\t24 & 1.5 & 0 & 2 \\\\\n",
       "\t25 & 11.5 & 1 & 1 \\\\\n",
       "\t26 & 0.5 & 1 & 2 \\\\\n",
       "\t27 & 3.5 & 0 & 2 \\\\\n",
       "\t28 & 2.5 & 0 & 2 \\\\\n",
       "\t29 & 4.5 & 1 & 1 \\\\\n",
       "\t30 & 9.5 & 0 & 2 \\\\\n",
       "\t31 & 5.5 & 0 & 2 \\\\\n",
       "\t32 & 1.5 & 1 & 1 \\\\\n",
       "\t33 & 2.5 & 1 & 2 \\\\\n",
       "\t34 & 14.5 & 0 & 1 \\\\\n",
       "\t35 & 20.5 & 0 & 2 \\\\\n",
       "\t36 & 0.5 & 0 & 2 \\\\\n",
       "\t37 & 4.5 & 0 & 2 \\\\\n",
       "\t38 & 3.5 & 0 & 1 \\\\\n",
       "\t39 & 21.5 & 0 & 1 \\\\\n",
       "\t40 & 10.5 & 0 & 1 \\\\\n",
       "\t41 & 5.5 & 0 & 2 \\\\\n",
       "\t42 & 18.5 & 1 & 1 \\\\\n",
       "\t43 & 13.5 & 0 & 1 \\\\\n",
       "\t44 & 0.5 & 0 & 2 \\\\\n",
       "\t45 & 7.5 & 0 & 1 \\\\\n",
       "\t46 & 7.5 & 0 & 1 \\\\\n",
       "\t47 & 5.5 & 1 & 1 \\\\\n",
       "\t48 & 0.5 & 0 & 2 \\\\\n",
       "\t49 & 2.5 & 0 & 1 \\\\\n",
       "\t50 & 3.5 & 0 & 2 \\\\\n",
       "\t51 & 0.5 & 0 & 2 \\\\\n",
       "\t52 & 6.5 & 0 & 1 \\\\\n",
       "\t53 & 12.5 & 0 & 2 \\\\\n",
       "\t54 & 5.5 & 0 & 1 \\\\\n",
       "\t55 & 8.5 & 0 & 2 \\\\\n",
       "\t56 & 0.5 & 1 & 2 \\\\\n",
       "\t57 & 11.5 & 0 & 2 \\\\\n",
       "\t58 & 9.5 & 1 & 1 \\\\\n",
       "\t59 & 5.5 & 0 & 2 \\\\\n",
       "\t60 & 5.5 & 0 & 2 \\\\\n",
       "\t61 & 12.5 & 0 & 2 \\\\\n",
       "\t62 & 14.5 & 0 & 2 \\\\\n",
       "\t63 & 18.5 & 0 & 2 \\\\\n",
       "\t64 & 16.5 & 1 & 1 \\\\\n",
       "\t65 & 2.5 & 1 & 2 \\\\\n",
       "\t66 & 6.5 & 1 & 2 \\\\\n",
       "\t67 & 19.5 & 0 & 2 \\\\\n",
       "\t68 & 1.5 & 0 & 2 \\\\\n",
       "\t69 & 12.5 & 0 & 2 \\\\\n",
       "\t70 & 7.5 & 0 & 2 \\\\\n",
       "\t71 & 14.5 & 0 & 2 \\\\\n",
       "\t72 & 1.5 & 0 & 2 \\\\\n",
       "\t73 & 28.5 & 0 & 2 \\\\\n",
       "\t74 & 6.5 & 0 & 2 \\\\\n",
       "\t75 & 23.5 & 1 & 1 \\\\\n",
       "\t76 & 9.5 & 0 & 1 \\\\\n",
       "\t77 & 3.5 & 0 & 2 \\\\\n",
       "\t78 & 0.5 & 1 & 2 \\\\\n",
       "\t79 & 12.5 & 0 & 1 \\\\\n",
       "\t80 & 25.5 & 0 & 2 \\\\\n",
       "\t81 & 0.5 & 1 & 2 \\\\\n",
       "\t82 & 0.5 & 0 & 2 \\\\\n",
       "\t83 & 2.5 & 0 & 2 \\\\\n",
       "\t84 & 4.5 & 0 & 2 \\\\\n",
       "\t85 & 26.5 & 0 & 2 \\\\\n",
       "\t86 & 15.5 & 1 & 1 \\\\\n",
       "\t87 & 0.5 & 0 & 2 \\\\\n",
       "\t88 & 9.5 & 0 & 2 \\\\\n",
       "\t89 & 0.5 & 0 & 2 \\\\\n",
       "\t90 & 27.5 & 0 & 1 \\\\\n",
       "\t91 & 7.5 & 0 & 2 \\\\\n",
       "\t92 & 16.5 & 0 & 2 \\\\\n",
       "\t93 & 0.5 & 0 & 2 \\\\\n",
       "\t94 & 8.5 & 0 & 1 \\\\\n",
       "\t95 & 15.5 & 1 & 2 \\\\\n",
       "\t96 & 5.5 & 0 & 2 \\\\\n",
       "\t97 & 2.5 & 0 & 2 \\\\\n",
       "\t98 & 25.5 & 0 & 1 \\\\\n",
       "\t99 & 8.5 & 1 & 1 \\\\\n",
       "\t100 & 22.5 & 0 & 2 \\\\\n",
       "\t101 & 26.5 & 1 & 1 \\\\\n",
       "\t102 & 7.5 & 0 & 1 \\\\\n",
       "\t103 & 8.5 & 1 & 1 \\\\\n",
       "\t104 & 8.5 & 0 & 2 \\\\\n",
       "\t105 & 26.5 & 0 & 2 \\\\\n",
       "\t106 & 0.5 & 0 & 2 \\\\\n",
       "\t107 & 2.5 & 0 & 2 \\\\\n",
       "\t108 & 21.5 & 0 & 1 \\\\\n",
       "\t109 & 7.5 & 0 & 1 \\\\\n",
       "\t110 & 7.5 & 0 & 2 \\\\\n",
       "\t111 & 11.5 & 0 & 2 \\\\\n",
       "\t112 & 22.5 & 0 & 1 \\\\\n",
       "\t113 & 8.5 & 0 & 2 \\\\\n",
       "\t114 & 12.5 & 0 & 2 \\\\\n",
       "\t115 & 11.5 & 0 & 1 \\\\\n",
       "\t116 & 10.5 & 1 & 1 \\\\\n",
       "\t117 & 16.5 & 0 & 2 \\\\\n",
       "\t118 & 1.5 & 0 & 2 \\\\\n",
       "\t119 & 4.5 & 0 & 1 \\\\\n",
       "\\end{tabular}\n"
      ],
      "text/plain": [
       "119×3 SubDataFrame{Array{Int64,1}}\n",
       "│ Row │ Time     │ Delta  │ Type   │\n",
       "│     │ \u001b[90mFloat64⍰\u001b[39m │ \u001b[90mInt64⍰\u001b[39m │ \u001b[90mInt64⍰\u001b[39m │\n",
       "├─────┼──────────┼────────┼────────┤\n",
       "│ 1   │ 4.5      │ 1      │ 1      │\n",
       "│ 2   │ 6.5      │ 0      │ 1      │\n",
       "│ 3   │ 2.5      │ 0      │ 2      │\n",
       "│ 4   │ 4.5      │ 0      │ 2      │\n",
       "│ 5   │ 10.5     │ 0      │ 2      │\n",
       "│ 6   │ 24.5     │ 0      │ 2      │\n",
       "│ 7   │ 10.5     │ 0      │ 2      │\n",
       "│ 8   │ 10.5     │ 0      │ 2      │\n",
       "│ 9   │ 0.5      │ 0      │ 2      │\n",
       "│ 10  │ 19.5     │ 0      │ 2      │\n",
       "⋮\n",
       "│ 109 │ 7.5      │ 0      │ 1      │\n",
       "│ 110 │ 7.5      │ 0      │ 2      │\n",
       "│ 111 │ 11.5     │ 0      │ 2      │\n",
       "│ 112 │ 22.5     │ 0      │ 1      │\n",
       "│ 113 │ 8.5      │ 0      │ 2      │\n",
       "│ 114 │ 12.5     │ 0      │ 2      │\n",
       "│ 115 │ 11.5     │ 0      │ 1      │\n",
       "│ 116 │ 10.5     │ 1      │ 1      │\n",
       "│ 117 │ 16.5     │ 0      │ 2      │\n",
       "│ 118 │ 1.5      │ 0      │ 2      │\n",
       "│ 119 │ 4.5      │ 0      │ 1      │"
      ]
     },
     "execution_count": 19,
     "metadata": {},
     "output_type": "execute_result"
    }
   ],
   "source": [
    "Pkg.add(\"MLDataUtils\")\n",
    "using MLDataUtils\n",
    "shuffleobs(bb)"
   ]
  },
  {
   "cell_type": "code",
   "execution_count": 20,
   "metadata": {},
   "outputs": [
    {
     "data": {
      "text/html": [
       "<table class=\"data-frame\"><thead><tr><th></th><th>Time</th><th>Delta</th><th>Type</th></tr><tr><th></th><th>Float64⍰</th><th>Int64⍰</th><th>Int64⍰</th></tr></thead><tbody><p>119 rows × 3 columns</p><tr><th>1</th><td>10.5</td><td>0</td><td>2</td></tr><tr><th>2</th><td>0.5</td><td>1</td><td>2</td></tr><tr><th>3</th><td>3.5</td><td>0</td><td>1</td></tr><tr><th>4</th><td>21.5</td><td>0</td><td>1</td></tr><tr><th>5</th><td>19.5</td><td>0</td><td>2</td></tr><tr><th>6</th><td>15.5</td><td>1</td><td>2</td></tr><tr><th>7</th><td>0.5</td><td>1</td><td>2</td></tr><tr><th>8</th><td>0.5</td><td>0</td><td>2</td></tr><tr><th>9</th><td>0.5</td><td>0</td><td>2</td></tr><tr><th>10</th><td>5.5</td><td>0</td><td>2</td></tr><tr><th>11</th><td>10.5</td><td>0</td><td>2</td></tr><tr><th>12</th><td>5.5</td><td>1</td><td>1</td></tr><tr><th>13</th><td>4.5</td><td>0</td><td>2</td></tr><tr><th>14</th><td>23.5</td><td>1</td><td>1</td></tr><tr><th>15</th><td>24.5</td><td>0</td><td>2</td></tr><tr><th>16</th><td>0.5</td><td>1</td><td>2</td></tr><tr><th>17</th><td>8.5</td><td>0</td><td>2</td></tr><tr><th>18</th><td>3.5</td><td>0</td><td>1</td></tr><tr><th>19</th><td>7.5</td><td>0</td><td>1</td></tr><tr><th>20</th><td>12.5</td><td>0</td><td>2</td></tr><tr><th>21</th><td>22.5</td><td>0</td><td>1</td></tr><tr><th>22</th><td>4.5</td><td>0</td><td>2</td></tr><tr><th>23</th><td>15.5</td><td>1</td><td>1</td></tr><tr><th>24</th><td>0.5</td><td>0</td><td>2</td></tr><tr><th>25</th><td>14.5</td><td>0</td><td>2</td></tr><tr><th>26</th><td>10.5</td><td>1</td><td>1</td></tr><tr><th>27</th><td>2.5</td><td>0</td><td>2</td></tr><tr><th>28</th><td>0.5</td><td>0</td><td>2</td></tr><tr><th>29</th><td>7.5</td><td>0</td><td>1</td></tr><tr><th>30</th><td>12.5</td><td>0</td><td>2</td></tr><tr><th>&vellip;</th><td>&vellip;</td><td>&vellip;</td><td>&vellip;</td></tr></tbody></table>"
      ],
      "text/latex": [
       "\\begin{tabular}{r|ccc}\n",
       "\t& Time & Delta & Type\\\\\n",
       "\t\\hline\n",
       "\t1 & 10.5 & 0 & 2 \\\\\n",
       "\t2 & 0.5 & 1 & 2 \\\\\n",
       "\t3 & 3.5 & 0 & 1 \\\\\n",
       "\t4 & 21.5 & 0 & 1 \\\\\n",
       "\t5 & 19.5 & 0 & 2 \\\\\n",
       "\t6 & 15.5 & 1 & 2 \\\\\n",
       "\t7 & 0.5 & 1 & 2 \\\\\n",
       "\t8 & 0.5 & 0 & 2 \\\\\n",
       "\t9 & 0.5 & 0 & 2 \\\\\n",
       "\t10 & 5.5 & 0 & 2 \\\\\n",
       "\t11 & 10.5 & 0 & 2 \\\\\n",
       "\t12 & 5.5 & 1 & 1 \\\\\n",
       "\t13 & 4.5 & 0 & 2 \\\\\n",
       "\t14 & 23.5 & 1 & 1 \\\\\n",
       "\t15 & 24.5 & 0 & 2 \\\\\n",
       "\t16 & 0.5 & 1 & 2 \\\\\n",
       "\t17 & 8.5 & 0 & 2 \\\\\n",
       "\t18 & 3.5 & 0 & 1 \\\\\n",
       "\t19 & 7.5 & 0 & 1 \\\\\n",
       "\t20 & 12.5 & 0 & 2 \\\\\n",
       "\t21 & 22.5 & 0 & 1 \\\\\n",
       "\t22 & 4.5 & 0 & 2 \\\\\n",
       "\t23 & 15.5 & 1 & 1 \\\\\n",
       "\t24 & 0.5 & 0 & 2 \\\\\n",
       "\t25 & 14.5 & 0 & 2 \\\\\n",
       "\t26 & 10.5 & 1 & 1 \\\\\n",
       "\t27 & 2.5 & 0 & 2 \\\\\n",
       "\t28 & 0.5 & 0 & 2 \\\\\n",
       "\t29 & 7.5 & 0 & 1 \\\\\n",
       "\t30 & 12.5 & 0 & 2 \\\\\n",
       "\t31 & 26.5 & 1 & 1 \\\\\n",
       "\t32 & 4.5 & 1 & 1 \\\\\n",
       "\t33 & 7.5 & 0 & 1 \\\\\n",
       "\t34 & 3.5 & 0 & 2 \\\\\n",
       "\t35 & 12.5 & 0 & 1 \\\\\n",
       "\t36 & 3.5 & 0 & 2 \\\\\n",
       "\t37 & 9.5 & 1 & 1 \\\\\n",
       "\t38 & 12.5 & 0 & 2 \\\\\n",
       "\t39 & 1.5 & 0 & 2 \\\\\n",
       "\t40 & 14.5 & 0 & 1 \\\\\n",
       "\t41 & 22.5 & 0 & 1 \\\\\n",
       "\t42 & 0.5 & 0 & 2 \\\\\n",
       "\t43 & 0.5 & 1 & 2 \\\\\n",
       "\t44 & 14.5 & 0 & 2 \\\\\n",
       "\t45 & 13.5 & 0 & 1 \\\\\n",
       "\t46 & 8.5 & 1 & 1 \\\\\n",
       "\t47 & 5.5 & 0 & 2 \\\\\n",
       "\t48 & 6.5 & 0 & 1 \\\\\n",
       "\t49 & 6.5 & 0 & 1 \\\\\n",
       "\t50 & 1.5 & 0 & 2 \\\\\n",
       "\t51 & 4.5 & 0 & 2 \\\\\n",
       "\t52 & 5.5 & 0 & 2 \\\\\n",
       "\t53 & 3.5 & 0 & 2 \\\\\n",
       "\t54 & 7.5 & 0 & 1 \\\\\n",
       "\t55 & 5.5 & 0 & 2 \\\\\n",
       "\t56 & 0.5 & 1 & 2 \\\\\n",
       "\t57 & 9.5 & 0 & 2 \\\\\n",
       "\t58 & 20.5 & 0 & 2 \\\\\n",
       "\t59 & 12.5 & 0 & 1 \\\\\n",
       "\t60 & 14.5 & 0 & 1 \\\\\n",
       "\t61 & 2.5 & 0 & 2 \\\\\n",
       "\t62 & 4.5 & 1 & 1 \\\\\n",
       "\t63 & 2.5 & 1 & 2 \\\\\n",
       "\t64 & 3.5 & 1 & 1 \\\\\n",
       "\t65 & 22.5 & 0 & 2 \\\\\n",
       "\t66 & 6.5 & 0 & 2 \\\\\n",
       "\t67 & 16.5 & 0 & 2 \\\\\n",
       "\t68 & 0.5 & 0 & 2 \\\\\n",
       "\t69 & 7.5 & 0 & 2 \\\\\n",
       "\t70 & 7.5 & 0 & 2 \\\\\n",
       "\t71 & 27.5 & 0 & 1 \\\\\n",
       "\t72 & 3.5 & 1 & 2 \\\\\n",
       "\t73 & 5.5 & 0 & 1 \\\\\n",
       "\t74 & 1.5 & 1 & 1 \\\\\n",
       "\t75 & 28.5 & 0 & 2 \\\\\n",
       "\t76 & 3.5 & 0 & 2 \\\\\n",
       "\t77 & 19.5 & 0 & 2 \\\\\n",
       "\t78 & 2.5 & 0 & 2 \\\\\n",
       "\t79 & 10.5 & 0 & 2 \\\\\n",
       "\t80 & 2.5 & 0 & 2 \\\\\n",
       "\t81 & 11.5 & 1 & 1 \\\\\n",
       "\t82 & 21.5 & 0 & 1 \\\\\n",
       "\t83 & 0.5 & 1 & 2 \\\\\n",
       "\t84 & 2.5 & 0 & 1 \\\\\n",
       "\t85 & 3.5 & 0 & 1 \\\\\n",
       "\t86 & 0.5 & 0 & 2 \\\\\n",
       "\t87 & 10.5 & 0 & 1 \\\\\n",
       "\t88 & 11.5 & 0 & 1 \\\\\n",
       "\t89 & 18.5 & 0 & 2 \\\\\n",
       "\t90 & 8.5 & 1 & 1 \\\\\n",
       "\t91 & 18.5 & 1 & 1 \\\\\n",
       "\t92 & 5.5 & 0 & 2 \\\\\n",
       "\t93 & 19.5 & 0 & 2 \\\\\n",
       "\t94 & 11.5 & 0 & 2 \\\\\n",
       "\t95 & 16.5 & 0 & 2 \\\\\n",
       "\t96 & 0.5 & 0 & 2 \\\\\n",
       "\t97 & 9.5 & 0 & 1 \\\\\n",
       "\t98 & 8.5 & 0 & 2 \\\\\n",
       "\t99 & 2.5 & 1 & 2 \\\\\n",
       "\t100 & 2.5 & 0 & 2 \\\\\n",
       "\t101 & 25.5 & 0 & 2 \\\\\n",
       "\t102 & 12.5 & 0 & 2 \\\\\n",
       "\t103 & 26.5 & 0 & 2 \\\\\n",
       "\t104 & 26.5 & 0 & 2 \\\\\n",
       "\t105 & 0.5 & 0 & 2 \\\\\n",
       "\t106 & 8.5 & 0 & 2 \\\\\n",
       "\t107 & 6.5 & 1 & 2 \\\\\n",
       "\t108 & 8.5 & 0 & 1 \\\\\n",
       "\t109 & 7.5 & 0 & 2 \\\\\n",
       "\t110 & 1.5 & 0 & 2 \\\\\n",
       "\t111 & 25.5 & 0 & 1 \\\\\n",
       "\t112 & 3.5 & 0 & 2 \\\\\n",
       "\t113 & 2.5 & 0 & 1 \\\\\n",
       "\t114 & 0.5 & 0 & 2 \\\\\n",
       "\t115 & 9.5 & 0 & 2 \\\\\n",
       "\t116 & 1.5 & 0 & 2 \\\\\n",
       "\t117 & 11.5 & 0 & 2 \\\\\n",
       "\t118 & 4.5 & 0 & 1 \\\\\n",
       "\t119 & 16.5 & 1 & 1 \\\\\n",
       "\\end{tabular}\n"
      ],
      "text/plain": [
       "119×3 SubDataFrame{Array{Int64,1}}\n",
       "│ Row │ Time     │ Delta  │ Type   │\n",
       "│     │ \u001b[90mFloat64⍰\u001b[39m │ \u001b[90mInt64⍰\u001b[39m │ \u001b[90mInt64⍰\u001b[39m │\n",
       "├─────┼──────────┼────────┼────────┤\n",
       "│ 1   │ 10.5     │ 0      │ 2      │\n",
       "│ 2   │ 0.5      │ 1      │ 2      │\n",
       "│ 3   │ 3.5      │ 0      │ 1      │\n",
       "│ 4   │ 21.5     │ 0      │ 1      │\n",
       "│ 5   │ 19.5     │ 0      │ 2      │\n",
       "│ 6   │ 15.5     │ 1      │ 2      │\n",
       "│ 7   │ 0.5      │ 1      │ 2      │\n",
       "│ 8   │ 0.5      │ 0      │ 2      │\n",
       "│ 9   │ 0.5      │ 0      │ 2      │\n",
       "│ 10  │ 5.5      │ 0      │ 2      │\n",
       "⋮\n",
       "│ 109 │ 7.5      │ 0      │ 2      │\n",
       "│ 110 │ 1.5      │ 0      │ 2      │\n",
       "│ 111 │ 25.5     │ 0      │ 1      │\n",
       "│ 112 │ 3.5      │ 0      │ 2      │\n",
       "│ 113 │ 2.5      │ 0      │ 1      │\n",
       "│ 114 │ 0.5      │ 0      │ 2      │\n",
       "│ 115 │ 9.5      │ 0      │ 2      │\n",
       "│ 116 │ 1.5      │ 0      │ 2      │\n",
       "│ 117 │ 11.5     │ 0      │ 2      │\n",
       "│ 118 │ 4.5      │ 0      │ 1      │\n",
       "│ 119 │ 16.5     │ 1      │ 1      │"
      ]
     },
     "execution_count": 20,
     "metadata": {},
     "output_type": "execute_result"
    }
   ],
   "source": [
    "bb=shuffleobs(bb)"
   ]
  },
  {
   "cell_type": "code",
   "execution_count": 21,
   "metadata": {},
   "outputs": [
    {
     "data": {
      "text/plain": [
       "24-element Array{Union{Missing, Int64},1}:\n",
       " 2\n",
       " 1\n",
       " 2\n",
       " 2\n",
       " 2\n",
       " 2\n",
       " 2\n",
       " 2\n",
       " 2\n",
       " 2\n",
       " 2\n",
       " 2\n",
       " 1\n",
       " 2\n",
       " 2\n",
       " 1\n",
       " 2\n",
       " 1\n",
       " 2\n",
       " 2\n",
       " 2\n",
       " 2\n",
       " 1\n",
       " 1"
      ]
     },
     "execution_count": 21,
     "metadata": {},
     "output_type": "execute_result"
    }
   ],
   "source": [
    "xtrain=convert(Array,bb[1:95,1:2])\n",
    "ytrain=bb[1:95,3]\n",
    "xtest=convert(Array,bb[96:119,1:2])\n",
    "ytest=bb[96:119,3]"
   ]
  },
  {
   "cell_type": "code",
   "execution_count": 22,
   "metadata": {},
   "outputs": [
    {
     "data": {
      "text/plain": [
       "24-element Array{Int64,1}:\n",
       " 2\n",
       " 2\n",
       " 2\n",
       " 2\n",
       " 2\n",
       " 2\n",
       " 2\n",
       " 1\n",
       " 1\n",
       " 2\n",
       " 2\n",
       " 1\n",
       " 2\n",
       " 1\n",
       " 2\n",
       " 2\n",
       " 2\n",
       " 2\n",
       " 2\n",
       " 2\n",
       " 2\n",
       " 2\n",
       " 2\n",
       " 1"
      ]
     },
     "execution_count": 22,
     "metadata": {},
     "output_type": "execute_result"
    }
   ],
   "source": [
    "fit!(clftree,xtrain,ytrain)\n",
    "v=predict(clftree,xtest)"
   ]
  },
  {
   "cell_type": "code",
   "execution_count": 23,
   "metadata": {},
   "outputs": [
    {
     "data": {
      "text/plain": [
       "0.625"
      ]
     },
     "execution_count": 23,
     "metadata": {},
     "output_type": "execute_result"
    }
   ],
   "source": [
    "accuracy=sum(v.==ytest)/length(ytest)"
   ]
  },
  {
   "cell_type": "code",
   "execution_count": 24,
   "metadata": {},
   "outputs": [
    {
     "name": "stdout",
     "output_type": "stream",
     "text": [
      "\u001b[32m\u001b[1m Resolving\u001b[22m\u001b[39m package versions...\n",
      "\u001b[32m\u001b[1m Installed\u001b[22m\u001b[39m JLD ─────────── v0.9.1\n",
      "\u001b[32m\u001b[1m Installed\u001b[22m\u001b[39m LegacyStrings ─ v0.4.1\n",
      "\u001b[32m\u001b[1m  Updating\u001b[22m\u001b[39m `~/.julia/Project.toml`\n",
      " \u001b[90m [4138dd39]\u001b[39m\u001b[92m + JLD v0.9.1\u001b[39m\n",
      "\u001b[32m\u001b[1m  Updating\u001b[22m\u001b[39m `~/.julia/Manifest.toml`\n",
      " \u001b[90m [a74b3585]\u001b[39m\u001b[92m + Blosc v0.5.1\u001b[39m\n",
      " \u001b[90m [e1450e63]\u001b[39m\u001b[92m + BufferedStreams v1.0.0\u001b[39m\n",
      " \u001b[90m [631607c0]\u001b[39m\u001b[92m + CMake v1.1.1\u001b[39m\n",
      " \u001b[90m [d5fb7624]\u001b[39m\u001b[92m + CMakeWrapper v0.2.2\u001b[39m\n",
      " \u001b[90m [f67ccb44]\u001b[39m\u001b[92m + HDF5 v0.11.0\u001b[39m\n",
      " \u001b[90m [0862f596]\u001b[39m\u001b[92m + HTTPClient v0.2.1\u001b[39m\n",
      " \u001b[90m [d9be37ee]\u001b[39m\u001b[92m + Homebrew v0.7.1\u001b[39m\n",
      " \u001b[90m [4138dd39]\u001b[39m\u001b[92m + JLD v0.9.1\u001b[39m\n",
      " \u001b[90m [1b4a561d]\u001b[39m\u001b[92m + LegacyStrings v0.4.1\u001b[39m\n",
      " \u001b[90m [b27032c2]\u001b[39m\u001b[92m + LibCURL v0.4.1\u001b[39m\n",
      " \u001b[90m [522f3ed2]\u001b[39m\u001b[92m + LibExpat v0.5.0\u001b[39m\n",
      " \u001b[90m [2ec943e9]\u001b[39m\u001b[92m + Libz v1.0.0\u001b[39m\n",
      " \u001b[90m [c17dfb99]\u001b[39m\u001b[92m + WinRPM v0.4.2\u001b[39m\n",
      " \u001b[90m [8bf52ea8]\u001b[39m\u001b[92m + CRC32c \u001b[39m\n"
     ]
    },
    {
     "name": "stderr",
     "output_type": "stream",
     "text": [
      "┌ Info: Precompiling JLD [4138dd39-2aa7-5051-a626-17a0bb65d9c8]\n",
      "└ @ Base loading.jl:1192\n"
     ]
    }
   ],
   "source": [
    "Pkg.add(\"JLD\")\n",
    "using JLD"
   ]
  },
  {
   "cell_type": "code",
   "execution_count": 28,
   "metadata": {},
   "outputs": [
    {
     "name": "stdout",
     "output_type": "stream",
     "text": [
      "\u001b[32m\u001b[1m Resolving\u001b[22m\u001b[39m package versions...\n",
      "\u001b[32m\u001b[1m Installed\u001b[22m\u001b[39m PyCallJLD ─ v0.1.0\n",
      "\u001b[32m\u001b[1m  Updating\u001b[22m\u001b[39m `~/.julia/Project.toml`\n",
      " \u001b[90m [de320387]\u001b[39m\u001b[92m + PyCallJLD v0.1.0\u001b[39m\n",
      "\u001b[32m\u001b[1m  Updating\u001b[22m\u001b[39m `~/.julia/Manifest.toml`\n",
      " \u001b[90m [de320387]\u001b[39m\u001b[92m + PyCallJLD v0.1.0\u001b[39m\n"
     ]
    }
   ],
   "source": [
    "Pkg.add(\"PyCallJLD\")"
   ]
  },
  {
   "cell_type": "code",
   "execution_count": 29,
   "metadata": {},
   "outputs": [
    {
     "name": "stderr",
     "output_type": "stream",
     "text": [
      "┌ Info: Precompiling PyCallJLD [de320387-30cd-5f83-91a8-a6e0ae8b8444]\n",
      "└ @ Base loading.jl:1192\n"
     ]
    }
   ],
   "source": [
    "import JLD,PyCallJLD"
   ]
  },
  {
   "cell_type": "code",
   "execution_count": 30,
   "metadata": {},
   "outputs": [],
   "source": [
    "using PyCallJLD"
   ]
  },
  {
   "cell_type": "code",
   "execution_count": 31,
   "metadata": {},
   "outputs": [],
   "source": [
    "JLD.save(\"Model.jld\",\"model\",clftree)"
   ]
  },
  {
   "cell_type": "code",
   "execution_count": null,
   "metadata": {},
   "outputs": [],
   "source": []
  }
 ],
 "metadata": {
  "kernelspec": {
   "display_name": "Julia 1.0.3",
   "language": "julia",
   "name": "julia-1.0"
  },
  "language_info": {
   "file_extension": ".jl",
   "mimetype": "application/julia",
   "name": "julia",
   "version": "1.0.3"
  }
 },
 "nbformat": 4,
 "nbformat_minor": 2
}
